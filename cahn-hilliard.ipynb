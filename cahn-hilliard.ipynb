{
 "cells": [
  {
   "cell_type": "code",
   "execution_count": null,
   "metadata": {},
   "outputs": [],
   "source": [
    "using Plots\n",
    "using FFTW\n",
    "\n",
    "L = 100\n",
    "N = 1000\n",
    "dx = L/N\n",
    "dt = 1e-5\n",
    "\n",
    "x = LinRange(0, L - dx, N)\n",
    "k = 2*π/L .* collect(1:(N÷2)+1)\n",
    "k² = k.*k\n",
    "\n",
    "F = plan_rfft(x)\n",
    "B = plan_irfft(k.*im, N)\n",
    "\n",
    "function antialiasing!( F )\n",
    "    F[end-(N÷6)+1:end] .= 0.\n",
    "end\n",
    "\n",
    "function euler!(Fdφ, Fφ, φ)\n",
    "    Fdφ .= -k² .* (k².*Fφ .- F * (φ .- φ.^3 ))\n",
    "\n",
    "    Fφ .+= Fdφ.*dt\n",
    "    antialiasing!(Fφ)\n",
    "    φ .= B*Fφ\n",
    "end"
   ]
  },
  {
   "cell_type": "code",
   "execution_count": null,
   "metadata": {},
   "outputs": [],
   "source": [
    "φ = cos.(2  * (2π/L) .* x)  * 0.001\n",
    "\n",
    "dφ = zeros(N)\n",
    "Fφ = F*φ \n",
    "Fdφ = F*dφ \n",
    "c = \"lightblue\"\n",
    "p = plot(x, φ, color=c)\n",
    "display(p)"
   ]
  },
  {
   "cell_type": "code",
   "execution_count": null,
   "metadata": {},
   "outputs": [],
   "source": [
    "M = 10_000_000\n",
    "p = plot(x, φ, color=c)\n",
    "for t in 1:M\n",
    "    euler!(Fdφ, Fφ, φ)\n",
    "    if t%(M÷10) == 0\n",
    "        # φ .= B*Fφ\n",
    "        # print(100*t/M,\"% \\n\")\n",
    "        plot!(x, φ, color=c)\n",
    "        @assert !any(isnan.(Fφ))\n",
    "    end\n",
    "end\n",
    "display(p)"
   ]
  },
  {
   "cell_type": "code",
   "execution_count": null,
   "metadata": {},
   "outputs": [],
   "source": [
    "not"
   ]
  },
  {
   "cell_type": "code",
   "execution_count": null,
   "metadata": {},
   "outputs": [],
   "source": []
  }
 ],
 "metadata": {
  "kernelspec": {
   "display_name": "Julia 1.9.3",
   "language": "julia",
   "name": "julia-1.9"
  },
  "language_info": {
   "file_extension": ".jl",
   "mimetype": "application/julia",
   "name": "julia",
   "version": "1.9.3"
  }
 },
 "nbformat": 4,
 "nbformat_minor": 2
}
