{
 "cells": [
  {
   "cell_type": "code",
   "execution_count": null,
   "metadata": {},
   "outputs": [],
   "source": [
    "using Plots\n",
    "using FFTW\n",
    "\n",
    "L = 100\n",
    "N = 1000\n",
    "M = 1000\n",
    "dt = 1e-2\n",
    "x = (L/N) .* collect(0:N-1)\n",
    "k = 2*π / L .* collect(0:N÷2)\n",
    "k² = k.*k\n",
    "ik = im.*k\n",
    "c = - k²\n",
    "k1 = exp.(c .*dt)\n",
    "k2 = (k1 .- 1.) ./ c\n",
    "k2[1] = 0\n",
    "\n",
    "F = plan_rfft(x)\n",
    "B = plan_irfft(k*im, N)\n",
    "\n",
    "V = cos.((2π/L) .* x) / 5\n",
    "FV = F*V\n",
    "v = -10*(B*(ik.*FV))\n",
    "\n",
    "function antialiasing!( F )\n",
    "    F[(end-(N÷2)÷3)+1:end] .= 0.\n",
    "end\n",
    "\n",
    "function etd!(Fφ, φ)\n",
    "    Fφ .= k1 .* Fφ \n",
    "    Fφ .+= - (k2 .* ik .* (F*(v.*φ)))\n",
    "    φ .= B*Fφ\n",
    "    antialiasing!(Fφ)\n",
    "end\n"
   ]
  },
  {
   "cell_type": "code",
   "execution_count": null,
   "metadata": {},
   "outputs": [],
   "source": [
    "dφ = zeros(N)\n",
    "a = 2\n",
    "φ = zeros(N)\n",
    "φ[100:250] .= 1.\n",
    "Fφ = F*φ\n",
    "plot(x, φ)\n",
    "plot!(x, V)\n",
    "plot!(x, sum(φ)/N .* ones(N))"
   ]
  },
  {
   "cell_type": "code",
   "execution_count": null,
   "metadata": {},
   "outputs": [],
   "source": [
    "M = 50_000\n",
    "p = plot(x, φ, color=\"lightblue\")\n",
    "av = sum(φ)/N\n",
    "for t in 1:M\n",
    "    etd!(Fφ, φ)\n",
    "    if t%(M÷30) == 0\n",
    "        @assert abs(av - sum(φ)/N) < 1e-15\n",
    "        @assert !any(isnan.(Fφ))\n",
    "        plot!(x, φ; color=\"lightblue\")\n",
    "    end\n",
    "end\n",
    "\n",
    "plot!(legend=false)\n",
    "plot!(x, V)\n",
    "display(p)"
   ]
  },
  {
   "cell_type": "code",
   "execution_count": null,
   "metadata": {},
   "outputs": [],
   "source": [
    "1e-5 + 1e-18 ≈ 1e-5 "
   ]
  },
  {
   "cell_type": "code",
   "execution_count": null,
   "metadata": {},
   "outputs": [],
   "source": []
  }
 ],
 "metadata": {
  "kernelspec": {
   "display_name": "Julia 1.9.3",
   "language": "julia",
   "name": "julia-1.9"
  },
  "language_info": {
   "file_extension": ".jl",
   "mimetype": "application/julia",
   "name": "julia",
   "version": "1.9.3"
  }
 },
 "nbformat": 4,
 "nbformat_minor": 2
}
