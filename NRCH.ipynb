{
 "cells": [
  {
   "cell_type": "code",
   "execution_count": null,
   "metadata": {},
   "outputs": [],
   "source": [
    "using Plots\n",
    "using FFTW"
   ]
  },
  {
   "cell_type": "code",
   "execution_count": null,
   "metadata": {},
   "outputs": [],
   "source": [
    "L = 100\n",
    "N = 1000\n",
    "dt = 1e-2\n",
    "\n",
    "dx = L/N\n",
    "dk = 2*π / L\n",
    "\n",
    "x = dx .* collect(0:N-1)\n",
    "k = dk .* collect(0:N÷2)\n",
    "\n",
    "k² = k.^2\n",
    "c = -k.^4\n",
    "cdt = c .* dt\n",
    "k1 = exp.(cdt)\n",
    "k2 = dt * ( exp.(cdt) .- 1 ) ./ cdt\n",
    "k2[1] = 1.\n",
    "\n",
    "F = plan_rfft(x)\n",
    "B = plan_irfft(im * k, N)\n",
    "\n",
    "α = .4\n",
    "\n",
    "\n",
    "function g(φ1, φ2)\n",
    "    urφ² = 1 .- (φ1.^2 .+ φ2.^2)\n",
    "    g1 = k² .* (F * (urφ².*φ1 .+ α .* φ2 ))\n",
    "    g2 = k² .* (F * (urφ².*φ2 .- α .* φ1 ))\n",
    "    return g1, g2\n",
    "end"
   ]
  },
  {
   "cell_type": "code",
   "execution_count": null,
   "metadata": {},
   "outputs": [],
   "source": [
    "function antialias!(F)\n",
    "    F[end-(N÷6)+1:end] .= 0.\n",
    "end\n",
    "\n",
    "function etd!(Fφ1, Fφ2, φ1, φ2)\n",
    "    g1, g2 = g(φ1, φ2)\n",
    "    Fφ1 .= k1 .* Fφ1 + k2 .* g1\n",
    "    Fφ2 .= k1 .* Fφ2 + k2 .* g2\n",
    "    antialias!(Fφ1)\n",
    "    antialias!(Fφ2)\n",
    "    φ1 .= B*Fφ1\n",
    "    φ2 .= B*Fφ2\n",
    "end"
   ]
  },
  {
   "cell_type": "code",
   "execution_count": null,
   "metadata": {},
   "outputs": [],
   "source": [
    "v = .3\n",
    "A = 1e-1\n",
    "φ1 = v * ones(N) + A* cos.((2π/L).*x)\n",
    "φ2 = A * sin.((2π/L).*x); \n",
    "Fφ1, Fφ2 = F*φ1, F*φ2;"
   ]
  },
  {
   "cell_type": "code",
   "execution_count": null,
   "metadata": {},
   "outputs": [],
   "source": [
    "M = Int(1e5)\n",
    "frames = 1000\n",
    "n = M ÷ frames\n",
    "\n",
    "φt = Array{Float64}(undef, (frames, 2, N))\n",
    "φt[1, 1, :] .= φ1\n",
    "φt[1, 2, :] .= φ2;"
   ]
  },
  {
   "cell_type": "code",
   "execution_count": null,
   "metadata": {},
   "outputs": [],
   "source": [
    "for i in 2:frames\n",
    "    for j in 1:n\n",
    "        etd!(Fφ1, Fφ2, φ1, φ2)\n",
    "        t = i*n + j\n",
    "        if t%(M÷10) == 0\n",
    "            print(100*t/M,\"% \\n\")\n",
    "            @assert !any(isnan.(Fφ1))\n",
    "        end\n",
    "    end\n",
    "    φt[i, 1, :] .= φ1\n",
    "    φt[i, 2, :] .= φ2\n",
    "end"
   ]
  },
  {
   "cell_type": "code",
   "execution_count": null,
   "metadata": {},
   "outputs": [],
   "source": [
    "anim = @animate for i in 1:frames\n",
    "    plot()\n",
    "    plot!(x, φt[i, 1, :])\n",
    "    plot!(x, φt[i, 2, :])\n",
    "    plot!(;yrange=(-1, 1))\n",
    "end;\n",
    "gif(anim, \"nrch.mp4\", fps = 15)"
   ]
  },
  {
   "cell_type": "code",
   "execution_count": null,
   "metadata": {},
   "outputs": [],
   "source": []
  }
 ],
 "metadata": {
  "kernelspec": {
   "display_name": "Julia 1.9.3",
   "language": "julia",
   "name": "julia-1.9"
  },
  "language_info": {
   "file_extension": ".jl",
   "mimetype": "application/julia",
   "name": "julia",
   "version": "1.9.3"
  }
 },
 "nbformat": 4,
 "nbformat_minor": 2
}
