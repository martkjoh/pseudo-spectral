{
 "cells": [
  {
   "cell_type": "code",
   "execution_count": null,
   "metadata": {},
   "outputs": [],
   "source": [
    "using Plots\n",
    "using FFTW\n",
    "\n",
    "@userplot Evolve\n",
    "@recipe function f(ev::Evolve)\n",
    "    x, φt, i = ev.args\n",
    "    yrange --> (-1.5, 1.5)\n",
    "    x, φt[i,:]\n",
    "end"
   ]
  },
  {
   "cell_type": "code",
   "execution_count": null,
   "metadata": {},
   "outputs": [],
   "source": [
    "L = 100\n",
    "N = 1000\n",
    "dx = L/N\n",
    "dk = 2*π / L\n",
    "\n",
    "x = dx .* collect(0:N-1)\n",
    "k = dk .* collect(0:N÷2)\n",
    "\n",
    "dt = 1e-1\n",
    "\n",
    "k² = k.^2\n",
    "c = -k.^4\n",
    "cdt = c .* dt\n",
    "k1 = exp.(cdt)\n",
    "k2 = dt * ( exp.(cdt) .- 1 ) ./ cdt\n",
    "k3 = dt * ( exp.(cdt) .- (1 .+ cdt) ) ./ cdt.^2\n",
    "k2[1] = 1\n",
    "k3[1] = 0\n",
    "\n",
    "F = plan_rfft(x)\n",
    "B = plan_irfft(k.*im, N)\n",
    "\n",
    "g(φ) = k² .* (F * (φ .- φ.^3))"
   ]
  },
  {
   "cell_type": "code",
   "execution_count": null,
   "metadata": {},
   "outputs": [],
   "source": [
    "function antialias!(F)\n",
    "    F[end-(N÷6)+1:end] .= 0.\n",
    "end\n",
    "\n",
    "function etd!(Fφ, φ)\n",
    "    g0 = g(φ)\n",
    "    a = @. k1 * Fφ + k2 * g0\n",
    "    φ .= B*a\n",
    "    g1 = g(φ)\n",
    "    @. Fφ = a + k3 * (g1 - g0)\n",
    "    antialias!(Fφ)\n",
    "    φ .= B*Fφ\n",
    "end"
   ]
  },
  {
   "cell_type": "code",
   "execution_count": null,
   "metadata": {},
   "outputs": [],
   "source": [
    "v = .3\n",
    "φ = v * ones(N) + cos.((2π/L).*x) * 1e-1\n",
    "Fφ = F*φ\n",
    "M = Int(1e6)\n",
    "frames = 500\n",
    "n = M ÷ frames\n",
    "\n",
    "φt = Array{Float64}(undef, (frames, N))\n",
    "φt[1,:] .= φ\n",
    "\n",
    "for i in 2:frames\n",
    "    for j in 1:n\n",
    "        etd!(Fφ, φ)\n",
    "    end\n",
    "    φt[i,:] .= φ\n",
    "end"
   ]
  },
  {
   "cell_type": "code",
   "execution_count": null,
   "metadata": {},
   "outputs": [],
   "source": [
    "anim = @animate for i in 1:frames\n",
    "    evolve(x, φt, i)\n",
    "end\n",
    "gif(anim, \"anim_fps2.mp4\", fps = 30)"
   ]
  },
  {
   "cell_type": "code",
   "execution_count": null,
   "metadata": {},
   "outputs": [],
   "source": [
    " "
   ]
  }
 ],
 "metadata": {
  "kernelspec": {
   "display_name": "Julia 1.9.3",
   "language": "julia",
   "name": "julia-1.9"
  },
  "language_info": {
   "file_extension": ".jl",
   "mimetype": "application/julia",
   "name": "julia",
   "version": "1.9.3"
  }
 },
 "nbformat": 4,
 "nbformat_minor": 2
}
