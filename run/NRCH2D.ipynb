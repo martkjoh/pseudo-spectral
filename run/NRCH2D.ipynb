{
 "cells": [
  {
   "cell_type": "code",
   "execution_count": null,
   "metadata": {},
   "outputs": [],
   "source": [
    "using Plots\n",
    "include(\"../integrators/etd2D.jl\");"
   ]
  },
  {
   "cell_type": "code",
   "execution_count": null,
   "metadata": {},
   "outputs": [],
   "source": [
    "N = 300\n",
    "L = N/10\n",
    "dx = L/N\n",
    "dk = 2π/L\n",
    "dt = 1e-2\n",
    "\n",
    "M = Int(4e5)\n",
    "frames = 500;"
   ]
  },
  {
   "cell_type": "code",
   "execution_count": null,
   "metadata": {},
   "outputs": [],
   "source": [
    "αs = [.2, .4, .6]\n",
    "vs = [.4, .6]\n",
    "for v in vs\n",
    "    for α in αs\n",
    "        par = setup(N, L, dt, α, v);\n",
    "        g = get_g(par);\n",
    "        φt = run(par, g, M, frames);\n",
    "        animate_hm(φt, par)\n",
    "    end\n",
    "end"
   ]
  },
  {
   "cell_type": "code",
   "execution_count": null,
   "metadata": {},
   "outputs": [],
   "source": []
  }
 ],
 "metadata": {
  "kernelspec": {
   "display_name": "Julia 1.9.3",
   "language": "julia",
   "name": "julia-1.9"
  },
  "language_info": {
   "file_extension": ".jl",
   "mimetype": "application/julia",
   "name": "julia",
   "version": "1.9.3"
  }
 },
 "nbformat": 4,
 "nbformat_minor": 2
}
