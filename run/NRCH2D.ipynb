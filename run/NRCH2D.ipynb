{
 "cells": [
  {
   "cell_type": "code",
   "execution_count": 1,
   "metadata": {},
   "outputs": [],
   "source": [
    "using Plots\n",
    "using BenchmarkTools\n",
    "using Base.Threads\n",
    "\n",
    "include(\"../integrators/etd2D.jl\");"
   ]
  },
  {
   "cell_type": "code",
   "execution_count": 2,
   "metadata": {},
   "outputs": [],
   "source": [
    "N = 300\n",
    "L = N/10\n",
    "dx = L/N\n",
    "dk = 2π/L\n",
    "dt = 1e-2\n",
    "\n",
    "M = Int(5e5)\n",
    "frames = 500;"
   ]
  },
  {
   "cell_type": "code",
   "execution_count": 3,
   "metadata": {},
   "outputs": [],
   "source": [
    "function simulate(α, v)\n",
    "    par = setup(N, L, dt, α, v);\n",
    "    g = get_g(par);\n",
    "    φt = run(par, g, M, frames)\n",
    "    return φt, par;\n",
    "end;"
   ]
  },
  {
   "cell_type": "code",
   "execution_count": 4,
   "metadata": {},
   "outputs": [],
   "source": [
    "αs = [.2, .4, .6]\n",
    "vs = [.4, .6]\n",
    "n = size(αs)[1]*size(vs)[1]\n",
    "av = [(α, v) for α in αs for v in vs];\n",
    "av = [(i, av[i][1], av[i][2]) for i in 1:n];"
   ]
  },
  {
   "cell_type": "code",
   "execution_count": 5,
   "metadata": {},
   "outputs": [],
   "source": [
    "φt = fill(0., (frames, 2, N, N))\n",
    "par = setup(N, L, dt, 0, 0)\n",
    "result = fill((φt, par), n);"
   ]
  },
  {
   "cell_type": "code",
   "execution_count": 6,
   "metadata": {},
   "outputs": [
    {
     "name": "stdout",
     "output_type": "stream",
     "text": [
      "10.0% \n",
      "10.0% \n",
      "10.0% \n",
      "10.0% \n"
     ]
    },
    {
     "name": "stdout",
     "output_type": "stream",
     "text": [
      "20.0% \n",
      "20.0% \n",
      "20.0% \n"
     ]
    },
    {
     "name": "stdout",
     "output_type": "stream",
     "text": [
      "20.0% \n",
      "30.0% \n",
      "30.0% \n",
      "30.0"
     ]
    },
    {
     "name": "stdout",
     "output_type": "stream",
     "text": [
      "% \n"
     ]
    },
    {
     "name": "stdout",
     "output_type": "stream",
     "text": [
      "30.0% \n",
      "40.0% \n",
      "40.0% \n",
      "40.0% \n"
     ]
    },
    {
     "name": "stdout",
     "output_type": "stream",
     "text": [
      "40.0% \n",
      "50.0% \n",
      "50.0% \n",
      "50.0% \n"
     ]
    },
    {
     "name": "stdout",
     "output_type": "stream",
     "text": [
      "50.0% \n",
      "60.0% \n",
      "60.0% \n",
      "60.0% \n"
     ]
    },
    {
     "name": "stdout",
     "output_type": "stream",
     "text": [
      "60.0% \n",
      "70.0% \n",
      "70.0% \n",
      "70.0% \n"
     ]
    },
    {
     "name": "stdout",
     "output_type": "stream",
     "text": [
      "70.0% \n",
      "80.0% \n",
      "80.0% \n",
      "80.0% \n"
     ]
    },
    {
     "name": "stdout",
     "output_type": "stream",
     "text": [
      "80.0% \n",
      "90.0% \n",
      "90.0% \n",
      "90.0% \n"
     ]
    },
    {
     "name": "stdout",
     "output_type": "stream",
     "text": [
      "90.0% \n",
      "100.0% \n",
      "100.0% \n",
      "100.0% \n"
     ]
    },
    {
     "name": "stdout",
     "output_type": "stream",
     "text": [
      "100.0% \n"
     ]
    },
    {
     "name": "stdout",
     "output_type": "stream",
     "text": [
      "10.0% \n"
     ]
    },
    {
     "name": "stdout",
     "output_type": "stream",
     "text": [
      "10.0% \n"
     ]
    },
    {
     "name": "stdout",
     "output_type": "stream",
     "text": [
      "20.0% \n"
     ]
    },
    {
     "name": "stdout",
     "output_type": "stream",
     "text": [
      "20.0% \n"
     ]
    },
    {
     "name": "stdout",
     "output_type": "stream",
     "text": [
      "30.0% \n"
     ]
    },
    {
     "name": "stdout",
     "output_type": "stream",
     "text": [
      "30.0% \n"
     ]
    },
    {
     "name": "stdout",
     "output_type": "stream",
     "text": [
      "40.0% \n"
     ]
    },
    {
     "name": "stdout",
     "output_type": "stream",
     "text": [
      "40.0% \n"
     ]
    },
    {
     "name": "stdout",
     "output_type": "stream",
     "text": [
      "50.0% \n"
     ]
    },
    {
     "name": "stdout",
     "output_type": "stream",
     "text": [
      "50.0% \n"
     ]
    },
    {
     "name": "stdout",
     "output_type": "stream",
     "text": [
      "60.0% \n"
     ]
    },
    {
     "name": "stdout",
     "output_type": "stream",
     "text": [
      "60.0% \n"
     ]
    },
    {
     "name": "stdout",
     "output_type": "stream",
     "text": [
      "70.0% \n"
     ]
    },
    {
     "name": "stdout",
     "output_type": "stream",
     "text": [
      "70.0% \n"
     ]
    },
    {
     "name": "stdout",
     "output_type": "stream",
     "text": [
      "80.0% \n"
     ]
    },
    {
     "name": "stdout",
     "output_type": "stream",
     "text": [
      "80.0% \n"
     ]
    },
    {
     "name": "stdout",
     "output_type": "stream",
     "text": [
      "90.0% \n"
     ]
    },
    {
     "name": "stdout",
     "output_type": "stream",
     "text": [
      "90.0% \n"
     ]
    },
    {
     "name": "stdout",
     "output_type": "stream",
     "text": [
      "100.0% \n"
     ]
    },
    {
     "name": "stdout",
     "output_type": "stream",
     "text": [
      "100.0% \n"
     ]
    }
   ],
   "source": [
    "@threads for (i, α, v) in av\n",
    "    φt, par = simulate(α, v)\n",
    "    result[i] = (φt, par)\n",
    "end;"
   ]
  },
  {
   "cell_type": "code",
   "execution_count": 8,
   "metadata": {},
   "outputs": [
    {
     "name": "stdout",
     "output_type": "stream",
     "text": [
      " 80.528222 seconds (734.73 M allocations: 25.254 GiB, 2.69% gc time)\n"
     ]
    },
    {
     "name": "stderr",
     "output_type": "stream",
     "text": [
      "┌ Info: Saved animation to /home/mjohnsrud/ownCloud - martin.johnsrud@ds.mpg.de@owncloud.gwdg.de/repos/pseudo-spectral/run/NRCH_HM_α=0.2_v=0.4.mp4\n",
      "└ @ Plots /home/mjohnsrud/.julia/packages/Plots/sxUvK/src/animation.jl:156\n"
     ]
    },
    {
     "name": "stdout",
     "output_type": "stream",
     "text": [
      " 79.191252 seconds (734.73 M allocations: 25.252 GiB, 2.67% gc time)\n"
     ]
    },
    {
     "name": "stderr",
     "output_type": "stream",
     "text": [
      "┌ Info: Saved animation to /home/mjohnsrud/ownCloud - martin.johnsrud@ds.mpg.de@owncloud.gwdg.de/repos/pseudo-spectral/run/NRCH_HM_α=0.2_v=0.6.mp4\n",
      "└ @ Plots /home/mjohnsrud/.julia/packages/Plots/sxUvK/src/animation.jl:156\n"
     ]
    },
    {
     "name": "stdout",
     "output_type": "stream",
     "text": [
      " 81.066416 seconds (734.52 M allocations: 25.235 GiB, 2.58% gc time)\n"
     ]
    },
    {
     "name": "stderr",
     "output_type": "stream",
     "text": [
      "┌ Info: Saved animation to /home/mjohnsrud/ownCloud - martin.johnsrud@ds.mpg.de@owncloud.gwdg.de/repos/pseudo-spectral/run/NRCH_HM_α=0.4_v=0.4.mp4\n",
      "└ @ Plots /home/mjohnsrud/.julia/packages/Plots/sxUvK/src/animation.jl:156\n"
     ]
    },
    {
     "name": "stdout",
     "output_type": "stream",
     "text": [
      " 78.765084 seconds (734.73 M allocations: 25.249 GiB, 2.66% gc time)\n"
     ]
    },
    {
     "name": "stderr",
     "output_type": "stream",
     "text": [
      "┌ Info: Saved animation to /home/mjohnsrud/ownCloud - martin.johnsrud@ds.mpg.de@owncloud.gwdg.de/repos/pseudo-spectral/run/NRCH_HM_α=0.4_v=0.6.mp4\n",
      "└ @ Plots /home/mjohnsrud/.julia/packages/Plots/sxUvK/src/animation.jl:156\n"
     ]
    },
    {
     "name": "stdout",
     "output_type": "stream",
     "text": [
      " 82.142173 seconds (734.59 M allocations: 25.244 GiB, 2.57% gc time)\n"
     ]
    },
    {
     "name": "stderr",
     "output_type": "stream",
     "text": [
      "┌ Info: Saved animation to /home/mjohnsrud/ownCloud - martin.johnsrud@ds.mpg.de@owncloud.gwdg.de/repos/pseudo-spectral/run/NRCH_HM_α=0.6_v=0.4.mp4\n",
      "└ @ Plots /home/mjohnsrud/.julia/packages/Plots/sxUvK/src/animation.jl:156\n"
     ]
    },
    {
     "name": "stdout",
     "output_type": "stream",
     "text": [
      " 79.379851 seconds (734.73 M allocations: 25.250 GiB, 2.66% gc time)\n"
     ]
    },
    {
     "name": "stderr",
     "output_type": "stream",
     "text": [
      "┌ Info: Saved animation to /home/mjohnsrud/ownCloud - martin.johnsrud@ds.mpg.de@owncloud.gwdg.de/repos/pseudo-spectral/run/NRCH_HM_α=0.6_v=0.6.mp4\n",
      "└ @ Plots /home/mjohnsrud/.julia/packages/Plots/sxUvK/src/animation.jl:156\n"
     ]
    }
   ],
   "source": [
    "for (φt, par) in result\n",
    "    @time animate_hm(φt, par; skip=1)\n",
    "end"
   ]
  }
 ],
 "metadata": {
  "kernelspec": {
   "display_name": "Julia 1.9.3",
   "language": "julia",
   "name": "julia-1.9"
  },
  "language_info": {
   "file_extension": ".jl",
   "mimetype": "application/julia",
   "name": "julia",
   "version": "1.9.3"
  }
 },
 "nbformat": 4,
 "nbformat_minor": 2
}
