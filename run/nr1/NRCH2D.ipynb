{
 "cells": [
  {
   "cell_type": "code",
   "execution_count": null,
   "metadata": {},
   "outputs": [],
   "source": [
    "using Plots\n",
    "using BenchmarkTools\n",
    "using Base.Threads\n",
    "\n",
    "include(\"../integrators/etd2D.jl\");"
   ]
  },
  {
   "cell_type": "code",
   "execution_count": null,
   "metadata": {},
   "outputs": [],
   "source": [
    "N = 300\n",
    "L = N/10\n",
    "dx = L/N\n",
    "dk = 2π/L\n",
    "dt = 1e-2\n",
    "\n",
    "M = Int(5e5)\n",
    "frames = 500;"
   ]
  },
  {
   "cell_type": "code",
   "execution_count": null,
   "metadata": {},
   "outputs": [],
   "source": []
  },
  {
   "cell_type": "code",
   "execution_count": null,
   "metadata": {},
   "outputs": [],
   "source": [
    "αs = [.2, .4, .6]\n",
    "vs = [.4, .6]\n",
    "n = size(αs)[1]*size(vs)[1]\n",
    "av = [(α, v) for α in αs for v in vs];\n",
    "av = [(i, av[i][1], av[i][2]) for i in 1:n]\n",
    "\n",
    "φt = fill(0., (frames, 2, N, N))\n",
    "par = setup(N, L, dt, 0, 0)\n",
    "result = fill((φt, par), n);"
   ]
  },
  {
   "cell_type": "code",
   "execution_count": null,
   "metadata": {},
   "outputs": [],
   "source": [
    "@threads for (i, α, v) in av\n",
    "    φt, par = simulate(α, v)\n",
    "    result[i] = (φt, par)\n",
    "end;"
   ]
  },
  {
   "cell_type": "code",
   "execution_count": null,
   "metadata": {},
   "outputs": [],
   "source": [
    "for (φt, par) in result\n",
    "    @time animate_hm(φt, par; skip=1)\n",
    "end"
   ]
  }
 ],
 "metadata": {
  "kernelspec": {
   "display_name": "Julia 1.9.0",
   "language": "julia",
   "name": "julia-1.9"
  },
  "language_info": {
   "file_extension": ".jl",
   "mimetype": "application/julia",
   "name": "julia",
   "version": "1.9.0"
  }
 },
 "nbformat": 4,
 "nbformat_minor": 2
}
