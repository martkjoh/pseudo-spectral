{
 "cells": [
  {
   "cell_type": "code",
   "execution_count": 1,
   "metadata": {},
   "outputs": [
    {
     "ename": "SystemError",
     "evalue": "SystemError: opening file \"/home/mjohnsrud/repos/pseudo-spectral/run/integrators/etd2D.jl\": No such file or directory",
     "output_type": "error",
     "traceback": [
      "SystemError: opening file \"/home/mjohnsrud/repos/pseudo-spectral/run/integrators/etd2D.jl\": No such file or directory\n",
      "\n",
      "Stacktrace:\n",
      "  [1] systemerror(p::String, errno::Int32; extrainfo::Nothing)\n",
      "    @ Base ./error.jl:176\n",
      "  [2] #systemerror#82\n",
      "    @ ./error.jl:175 [inlined]\n",
      "  [3] systemerror\n",
      "    @ ./error.jl:175 [inlined]\n",
      "  [4] open(fname::String; lock::Bool, read::Nothing, write::Nothing, create::Nothing, truncate::Nothing, append::Nothing)\n",
      "    @ Base ./iostream.jl:293\n",
      "  [5] open\n",
      "    @ ./iostream.jl:275 [inlined]\n",
      "  [6] open(f::Base.var\"#418#419\"{String}, args::String; kwargs::Base.Pairs{Symbol, Union{}, Tuple{}, NamedTuple{(), Tuple{}}})\n",
      "    @ Base ./io.jl:393\n",
      "  [7] open\n",
      "    @ ./io.jl:392 [inlined]\n",
      "  [8] read\n",
      "    @ ./io.jl:473 [inlined]\n",
      "  [9] _include(mapexpr::Function, mod::Module, _path::String)\n",
      "    @ Base ./loading.jl:1959\n",
      " [10] include(fname::String)\n",
      "    @ Base.MainInclude ./client.jl:478\n",
      " [11] top-level scope\n",
      "    @ ~/repos/pseudo-spectral/run/nr1/NRCH2D.ipynb:5"
     ]
    }
   ],
   "source": [
    "using Plots\n",
    "using BenchmarkTools\n",
    "using Base.Threads\n",
    "\n",
    "include(\"../integrators/etd2D.jl\");"
   ]
  },
  {
   "cell_type": "code",
   "execution_count": 2,
   "metadata": {},
   "outputs": [],
   "source": [
    "N = 300\n",
    "L = N/10\n",
    "dx = L/N\n",
    "dk = 2π/L\n",
    "dt = 1e-2\n",
    "\n",
    "M = Int(5e5)\n",
    "frames = 500;"
   ]
  },
  {
   "cell_type": "code",
   "execution_count": null,
   "metadata": {},
   "outputs": [],
   "source": []
  },
  {
   "cell_type": "code",
   "execution_count": null,
   "metadata": {},
   "outputs": [],
   "source": [
    "αs = [.2, .4, .6]\n",
    "vs = [.4, .6]\n",
    "n = size(αs)[1]*size(vs)[1]\n",
    "av = [(α, v) for α in αs for v in vs];\n",
    "av = [(i, av[i][1], av[i][2]) for i in 1:n]\n",
    "\n",
    "φt = fill(0., (frames, 2, N, N))\n",
    "par = setup(N, L, dt, 0, 0)\n",
    "result = fill((φt, par), n);"
   ]
  },
  {
   "cell_type": "code",
   "execution_count": null,
   "metadata": {},
   "outputs": [],
   "source": [
    "@threads for (i, α, v) in av\n",
    "    φt, par = simulate(α, v)\n",
    "    result[i] = (φt, par)\n",
    "end;"
   ]
  },
  {
   "cell_type": "code",
   "execution_count": null,
   "metadata": {},
   "outputs": [],
   "source": [
    "for (φt, par) in result\n",
    "    @time animate_hm(φt, par; skip=1)\n",
    "end"
   ]
  }
 ],
 "metadata": {
  "kernelspec": {
   "display_name": "Julia 1.9.3",
   "language": "julia",
   "name": "julia-1.9"
  },
  "language_info": {
   "file_extension": ".jl",
   "mimetype": "application/julia",
   "name": "julia",
   "version": "1.9.3"
  }
 },
 "nbformat": 4,
 "nbformat_minor": 2
}
