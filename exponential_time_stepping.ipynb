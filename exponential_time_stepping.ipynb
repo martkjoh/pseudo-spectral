{
 "cells": [
  {
   "cell_type": "code",
   "execution_count": null,
   "metadata": {},
   "outputs": [],
   "source": [
    "using Plots\n",
    "\n",
    "c = -15\n",
    "F(y) = y^2\n",
    "f(y) = c * y + F(y)\n",
    "\n",
    "function euler!(y, f, i, dt)\n",
    "    dy = f(y[i-1]) * dt\n",
    "    y[i] = y[i-1] + dy\n",
    "end"
   ]
  },
  {
   "cell_type": "code",
   "execution_count": null,
   "metadata": {},
   "outputs": [],
   "source": [
    "y0 = 2.\n",
    "M = 20\n",
    "dt = .15\n",
    "y = Vector{Float64}(undef, M)\n",
    "y[1] = y0\n",
    "t = collect(0:(M-1)) * dt\n",
    "\n",
    "for i in 2:M \n",
    "    euler!(y, f, i, dt)\n",
    "end\n"
   ]
  },
  {
   "cell_type": "code",
   "execution_count": null,
   "metadata": {},
   "outputs": [],
   "source": [
    "plot(t, y)\n",
    "plot!(t, y0*exp.(c.*t))"
   ]
  },
  {
   "cell_type": "code",
   "execution_count": null,
   "metadata": {},
   "outputs": [],
   "source": [
    "function etd1!(y, i, dt)\n",
    "    yn = y[i-1]\n",
    "    Fn = F(yn)\n",
    "    k1 = exp(c*dt)\n",
    "    k2 = (k1 - 1.) / c\n",
    "    y[i] = k1 * yn + k2 * Fn\n",
    "end"
   ]
  },
  {
   "cell_type": "code",
   "execution_count": null,
   "metadata": {},
   "outputs": [],
   "source": [
    "function etd2rk!(y, i, dt)\n",
    "    yn = y[i-1]\n",
    "    Fn = F(yn)\n",
    "    k1 = exp(c*dt)\n",
    "    k2 = dt * ( exp(c*dt) - 1 ) / (c * dt)\n",
    "    k3 = dt * ( exp(c*dt) - (1 + c*dt) ) / (c * dt)^2\n",
    "    an = k1 * yn + k2 * Fn\n",
    "    y[i] = an + k3*(F(an) - Fn)\n",
    "end"
   ]
  },
  {
   "cell_type": "code",
   "execution_count": null,
   "metadata": {},
   "outputs": [],
   "source": [
    "y0 = 5.\n",
    "M = 5\n",
    "M2 = 1000\n",
    "dt = .17\n",
    "print(c*dt)\n",
    "dt2 = dt * (M-1) / (M2 - 1)\n",
    "\n",
    "t = collect(0:(M-1)) * dt\n",
    "te = collect(0:(M2-1)) * dt2\n",
    "\n",
    "y1 = Vector{Float64}(undef, M)\n",
    "y2 = Vector{Float64}(undef, M)\n",
    "y3 = Vector{Float64}(undef, M)\n",
    "ye = Vector{Float64}(undef, M2)\n",
    "y1[1] = y0\n",
    "y2[1] = y0\n",
    "y3[1] = y0\n",
    "ye[1] = y0\n",
    "\n",
    "for i in 2:M \n",
    "    euler!(y1, f, i, dt)\n",
    "    etd1!(y2, i, dt)\n",
    "    etd2rk!(y3, i, dt)\n",
    "end\n",
    "\n",
    "for i in 2:M2\n",
    "    euler!(ye, f, i, dt2)\n",
    "end"
   ]
  },
  {
   "cell_type": "code",
   "execution_count": null,
   "metadata": {},
   "outputs": [],
   "source": [
    "plot()\n",
    "plot!(t, y1, label=\"euler\")\n",
    "plot!(t, y2, label=\"edt1\")\n",
    "plot!(t, y3, label=\"edt2rk\")\n",
    "plot!(te, ye, ls=:dash, label=\"'exact'\")"
   ]
  }
 ],
 "metadata": {
  "kernelspec": {
   "display_name": "Julia 1.9.3",
   "language": "julia",
   "name": "julia-1.9"
  },
  "language_info": {
   "file_extension": ".jl",
   "mimetype": "application/julia",
   "name": "julia",
   "version": "1.9.3"
  }
 },
 "nbformat": 4,
 "nbformat_minor": 2
}
