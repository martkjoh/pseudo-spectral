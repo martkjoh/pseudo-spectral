{
 "cells": [
  {
   "cell_type": "code",
   "execution_count": null,
   "metadata": {},
   "outputs": [],
   "source": [
    "using Plots\n",
    "\n",
    "L = 10\n",
    "N = 10\n",
    "dx = L / N\n",
    "k0 = 2π/L\n",
    "\n",
    "x = LinRange(0, L - dx, N)\n",
    "f = cos.(k0 .* x) .+ 1/4 * sin.( 2*k0 .* x)\n",
    "print(collect(x))"
   ]
  },
  {
   "cell_type": "code",
   "execution_count": null,
   "metadata": {},
   "outputs": [],
   "source": [
    "using FFTW\n",
    "\n",
    "k = 2*π / L .* (1:(N÷2)+1) \n",
    "collect(k)"
   ]
  },
  {
   "cell_type": "code",
   "execution_count": null,
   "metadata": {},
   "outputs": [],
   "source": [
    "plot(x, f)"
   ]
  },
  {
   "cell_type": "code",
   "execution_count": null,
   "metadata": {},
   "outputs": [],
   "source": [
    "F = rfft(f)\n",
    "# print(real(F))\n",
    "@assert all(imag(F).<1e-14)\n",
    "print(size(F))\n",
    "plot(k, real(F))\n",
    "plot!(k, imag(F))"
   ]
  },
  {
   "cell_type": "code",
   "execution_count": null,
   "metadata": {},
   "outputs": [],
   "source": [
    "f2 = irfft(F, N)\n",
    "plot(x, real(f2))"
   ]
  },
  {
   "cell_type": "code",
   "execution_count": null,
   "metadata": {},
   "outputs": [],
   "source": [
    "abs.(f .- f2)"
   ]
  },
  {
   "cell_type": "code",
   "execution_count": null,
   "metadata": {},
   "outputs": [],
   "source": []
  }
 ],
 "metadata": {
  "kernelspec": {
   "display_name": "Julia 1.9.3",
   "language": "julia",
   "name": "julia-1.9"
  },
  "language_info": {
   "file_extension": ".jl",
   "mimetype": "application/julia",
   "name": "julia",
   "version": "1.9.3"
  }
 },
 "nbformat": 4,
 "nbformat_minor": 2
}
