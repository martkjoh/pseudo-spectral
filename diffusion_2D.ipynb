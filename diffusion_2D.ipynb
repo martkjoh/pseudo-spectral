{
 "cells": [
  {
   "cell_type": "code",
   "execution_count": null,
   "metadata": {},
   "outputs": [],
   "source": [
    "const L = 100\n",
    "const N = 1000\n",
    "const M = 1000\n",
    "const dx = L/N\n",
    "const k0 = 2π/L\n",
    "const dt = 1e-3"
   ]
  },
  {
   "cell_type": "code",
   "execution_count": null,
   "metadata": {},
   "outputs": [],
   "source": [
    "x1 = LinRange(0, L - dx, N)\n",
    "x2 = LinRange(0, L - dx, N)\n",
    "x = outer(x1, x2) \n",
    "x"
   ]
  },
  {
   "cell_type": "code",
   "execution_count": null,
   "metadata": {},
   "outputs": [],
   "source": [
    "const k = 2*π / L .* collect(1:(N÷2)+1)\n",
    "const k² = k.*k"
   ]
  }
 ],
 "metadata": {
  "kernelspec": {
   "display_name": "Julia 1.9.3",
   "language": "julia",
   "name": "julia-1.9"
  },
  "language_info": {
   "file_extension": ".jl",
   "mimetype": "application/julia",
   "name": "julia",
   "version": "1.9.3"
  }
 },
 "nbformat": 4,
 "nbformat_minor": 2
}
