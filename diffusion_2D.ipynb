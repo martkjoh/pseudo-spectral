{
 "cells": [
  {
   "cell_type": "code",
   "execution_count": null,
   "metadata": {},
   "outputs": [],
   "source": [
    "using FFTW\n",
    "using Plots"
   ]
  },
  {
   "cell_type": "code",
   "execution_count": null,
   "metadata": {},
   "outputs": [],
   "source": [
    "L = 10\n",
    "N = 300\n",
    "dx = L/N\n",
    "dk = 2π/L\n",
    "dt = 1e-2"
   ]
  },
  {
   "cell_type": "code",
   "execution_count": null,
   "metadata": {},
   "outputs": [],
   "source": [
    "x1 = dx .* collect(0:N-1)\n",
    "x2 = dx .* collect(0:N-1)'\n",
    "k1 = rfftfreq(N , N * dk)\n",
    "k2 = fftfreq(N, N * dk)';"
   ]
  },
  {
   "cell_type": "code",
   "execution_count": null,
   "metadata": {},
   "outputs": [],
   "source": [
    "k² = @. (k1^2 + k2^2);\n",
    "k = sqrt.(k²)\n",
    "c = - k²\n",
    "f1 = exp.(c .*dt)\n",
    "f2 = (f1 .- 1.) ./ c\n",
    "f2[1, 1] = 0"
   ]
  },
  {
   "cell_type": "code",
   "execution_count": null,
   "metadata": {},
   "outputs": [],
   "source": [
    "F = plan_rfft(x1 .+ x2)\n",
    "B = plan_irfft(im*k², N);"
   ]
  },
  {
   "cell_type": "code",
   "execution_count": null,
   "metadata": {},
   "outputs": [],
   "source": [
    "kmax = maximum(k)\n",
    "twothirds = k .> kmax * 2/3\n",
    "function antialias!( F )\n",
    "    F[twothirds] .= 0.\n",
    "end"
   ]
  },
  {
   "cell_type": "code",
   "execution_count": null,
   "metadata": {},
   "outputs": [],
   "source": [
    "V = @. cos(dk * x1) * cos(dk * x2) / 5\n",
    "FV = F*V\n",
    "v = -10*(B*(im .* k .* FV))\n",
    "\n",
    "function etd!(Fφ, φ)\n",
    "    Fvφ = F*(v.*φ)\n",
    "    @. Fφ = f1 * Fφ\n",
    "    @. Fφ += - 2*im * (f2 * k * Fvφ)\n",
    "    φ .= B*Fφ\n",
    "    antialias!(Fφ)\n",
    "end"
   ]
  },
  {
   "cell_type": "code",
   "execution_count": null,
   "metadata": {},
   "outputs": [],
   "source": [
    "dφ = zeros((N, N))\n",
    "φ = zeros((N, N))\n",
    "φ[1:10,1:10] .= 1.\n",
    "# φ = @. exp(- ((x1-L/2)^2 + (x2-L/2)^2) / 2)\n",
    "Fφ = F*φ\n",
    "plot(x1, x2, φ; st=:surface, zrange=(-.1, 1.1))"
   ]
  },
  {
   "cell_type": "code",
   "execution_count": null,
   "metadata": {},
   "outputs": [],
   "source": [
    "plot(x1, x2, V; st=:surface)"
   ]
  },
  {
   "cell_type": "code",
   "execution_count": null,
   "metadata": {},
   "outputs": [],
   "source": [
    "V"
   ]
  },
  {
   "cell_type": "code",
   "execution_count": null,
   "metadata": {},
   "outputs": [],
   "source": [
    "M = 10\n",
    "for t in 1:M\n",
    "    etd!(Fφ, φ)\n",
    "end\n",
    "plot(; zrange=(-1, 1))\n",
    "plot!(x1, x2, φ; st=:surface)"
   ]
  },
  {
   "cell_type": "code",
   "execution_count": null,
   "metadata": {},
   "outputs": [],
   "source": [
    "frames = 1000\n",
    "\n",
    "dφ = zeros((N, N))\n",
    "φ = zeros((N, N))\n",
    "φ[1:100, 1:100] .= 1.\n",
    "Fφ = F*φ\n",
    "\n",
    "anim = @animate for i in 1:frames\n",
    "    if i>1\n",
    "        for i in 2_000\n",
    "            etd!(Fφ, φ)\n",
    "        end\n",
    "    end\n",
    "    plot(x1, x2, φ; st=:surface, zrange=(-.1, 1.5))\n",
    "    plot!(size=(1200, 1200))\n",
    "end every 1;\n",
    "gif(anim, \"diff_2D.mp4\", fps = 20)"
   ]
  }
 ],
 "metadata": {
  "kernelspec": {
   "display_name": "Julia 1.9.3",
   "language": "julia",
   "name": "julia-1.9"
  },
  "language_info": {
   "file_extension": ".jl",
   "mimetype": "application/julia",
   "name": "julia",
   "version": "1.9.3"
  }
 },
 "nbformat": 4,
 "nbformat_minor": 2
}
