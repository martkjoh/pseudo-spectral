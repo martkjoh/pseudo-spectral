{
 "cells": [
  {
   "cell_type": "code",
   "execution_count": null,
   "metadata": {},
   "outputs": [],
   "source": [
    "L = 100\n",
    "N = 1000\n",
    "M = 1000\n",
    "dx = L/N\n",
    "dk = 2π/L\n",
    "dt = 1e-3"
   ]
  },
  {
   "cell_type": "code",
   "execution_count": null,
   "metadata": {},
   "outputs": [],
   "source": [
    "x1 = dx .* collect(0:N-1)\n",
    "x2 = dx .* collect(0:N-1)'\n",
    "k1 = dk .* collect(0:N÷2)\n",
    "k2 = dk .* collect(0:N÷2)';"
   ]
  },
  {
   "cell_type": "code",
   "execution_count": null,
   "metadata": {},
   "outputs": [],
   "source": [
    "x' .* x"
   ]
  },
  {
   "cell_type": "code",
   "execution_count": null,
   "metadata": {},
   "outputs": [],
   "source": [
    "const k = 2*π / L .* collect(1:(N÷2)+1)\n",
    "const k² = k.*k"
   ]
  }
 ],
 "metadata": {
  "kernelspec": {
   "display_name": "Julia 1.9.3",
   "language": "julia",
   "name": "julia-1.9"
  },
  "language_info": {
   "file_extension": ".jl",
   "mimetype": "application/julia",
   "name": "julia",
   "version": "1.9.3"
  }
 },
 "nbformat": 4,
 "nbformat_minor": 2
}
