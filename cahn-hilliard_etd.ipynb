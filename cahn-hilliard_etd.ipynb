{
 "cells": [
  {
   "cell_type": "code",
   "execution_count": null,
   "metadata": {},
   "outputs": [],
   "source": [
    "using Plots\n",
    "using FFTW\n",
    "\n",
    "L = 100\n",
    "N = 1000\n",
    "dx = L/N\n",
    "dt = 1e-2\n",
    "\n",
    "x = (L/N) .* collect(0:N-1)\n",
    "k = 2*π / L .* collect(0:N÷2)\n",
    "\n",
    "k² = k.^2\n",
    "c = -k.^4\n",
    "k1 = exp.(c .* dt)\n",
    "k2 = dt * ( exp.(c .* dt) .- 1 ) ./ (dt * c)\n",
    "k2[1] = 1\n",
    "F = plan_rfft(x)\n",
    "B = plan_irfft(k.*im, N)\n",
    "\n",
    "g(φ) = k² .* (F * (φ .- φ.^3))\n",
    "\n",
    "function antialiasing!(F)\n",
    "    F[end-(N÷6)+1:end] .= 0.\n",
    "end\n",
    "\n",
    "function etd!(Fφ, φ)\n",
    "    Fφ .= k1 .* Fφ + k2 .* g(φ)\n",
    "    antialiasing!(Fφ)\n",
    "    φ .= B*Fφ\n",
    "end"
   ]
  },
  {
   "cell_type": "code",
   "execution_count": null,
   "metadata": {},
   "outputs": [],
   "source": [
    "φ = cos.(2  * (2π/L) .* x)  * 0.1\n",
    "\n",
    "dφ = zeros(N)\n",
    "Fφ = F*φ \n",
    "Fdφ = F*dφ \n",
    "c = \"lightblue\"\n",
    "p = plot(x, φ, color=c)\n",
    "display(p)"
   ]
  },
  {
   "cell_type": "code",
   "execution_count": null,
   "metadata": {},
   "outputs": [],
   "source": [
    "M = 10_000\n",
    "p = plot(x, φ, color=c)\n",
    "for t in 1:M\n",
    "    etd!(Fφ, φ)\n",
    "    if t%(M÷10) == 0\n",
    "        plot!(x, φ; legend=false, color=c)\n",
    "        @assert !any(isnan.(Fφ))\n",
    "    end\n",
    "end\n",
    "\n",
    "display(p)"
   ]
  },
  {
   "cell_type": "code",
   "execution_count": null,
   "metadata": {},
   "outputs": [],
   "source": [
    "dt2 = 1e-5\n",
    "function euler!(Fdφ, Fφ, φ)\n",
    "    Fdφ .= -k² .* (k².*Fφ .- F * (φ .- φ.^3 ))\n",
    "    Fφ .+= Fdφ.*dt2\n",
    "    antialiasing!(Fφ)\n",
    "    φ .= B*Fφ\n",
    "end"
   ]
  },
  {
   "cell_type": "code",
   "execution_count": null,
   "metadata": {},
   "outputs": [],
   "source": [
    "φ2 = cos.(2  * (2π/L) .* x)  * 0.1\n",
    "\n",
    "dφ2 = zeros(N)\n",
    "Fφ2 = F*φ2\n",
    "Fdφ2 = F*dφ2 \n",
    "\n",
    "M2 = M*1000\n",
    "p = plot(x, φ2, color=c)\n",
    "for t in 1:M2\n",
    "    euler!(Fdφ2, Fφ2, φ2)\n",
    "    if t%(M2÷10) == 0\n",
    "        print(100*t/M2,\"% \\n\")\n",
    "        plot!(x, φ2, color=c)\n",
    "        @assert !any(isnan.(Fφ))\n",
    "    end\n",
    "end\n",
    "display(p)"
   ]
  },
  {
   "cell_type": "code",
   "execution_count": null,
   "metadata": {},
   "outputs": [],
   "source": [
    "plot(x, φ2, color=c)"
   ]
  },
  {
   "cell_type": "code",
   "execution_count": null,
   "metadata": {},
   "outputs": [],
   "source": [
    "plot(x, φ, color=c)"
   ]
  },
  {
   "cell_type": "code",
   "execution_count": null,
   "metadata": {},
   "outputs": [],
   "source": [
    "plot(x, φ - φ2, color=c)"
   ]
  },
  {
   "cell_type": "code",
   "execution_count": null,
   "metadata": {},
   "outputs": [],
   "source": [
    "@userplot Evolve\n",
    "@recipe function f(ev::Evolve)\n",
    "    x, φ, Fφ = ev.args\n",
    "    etd!(Fφ, φ)\n",
    "    yrange --> (-1, 1)\n",
    "    x, φ\n",
    "end\n",
    "\n",
    "\n",
    "φ = cos.(2  * (2π/L) .* x)  * 1e-1\n",
    "Fφ = F*φ\n",
    "M = 500_000\n",
    "frames = 500\n",
    "anim = @animate for i ∈ 1:M\n",
    "    evolve(x, φ, Fφ)\n",
    "end every (M ÷ frames)\n",
    "gif(anim, \"anim_fps2.mp4\", fps = 30)"
   ]
  },
  {
   "cell_type": "code",
   "execution_count": null,
   "metadata": {},
   "outputs": [],
   "source": [
    "@userplot Evolve\n",
    "@recipe function f(ev::Evolve)\n",
    "    x, φ, Fφ = ev.args\n",
    "    etd!(Fφ, φ)\n",
    "    yrange --> (-1, 1)\n",
    "    x, φ\n",
    "end\n",
    "\n",
    "\n",
    "φ = cos.(10  * (2π/L) .* x)  * 1e-10\n",
    "Fφ = F*φ\n",
    "M = 100_000\n",
    "frames = 100\n",
    "anim = @animate for i ∈ 1:M\n",
    "    evolve(x, φ, Fφ)\n",
    "end every (M ÷ frames)\n",
    "gif(anim, \"anim_fps2.mp4\", fps = 30)"
   ]
  },
  {
   "cell_type": "code",
   "execution_count": null,
   "metadata": {},
   "outputs": [],
   "source": []
  }
 ],
 "metadata": {
  "kernelspec": {
   "display_name": "Julia 1.9.3",
   "language": "julia",
   "name": "julia-1.9"
  },
  "language_info": {
   "file_extension": ".jl",
   "mimetype": "application/julia",
   "name": "julia",
   "version": "1.9.3"
  }
 },
 "nbformat": 4,
 "nbformat_minor": 2
}
