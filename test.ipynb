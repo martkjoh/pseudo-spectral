{
 "cells": [
  {
   "cell_type": "code",
   "execution_count": null,
   "metadata": {},
   "outputs": [],
   "source": [
    "using Plots\n",
    "include(\"integrators/etd.jl\");"
   ]
  },
  {
   "cell_type": "code",
   "execution_count": null,
   "metadata": {},
   "outputs": [],
   "source": [
    "const N = 5_000\n",
    "const L = 1_000\n",
    "const dt = 1e-2\n",
    "const α = .6\n",
    "const par = setup(N, L, dt, α);\n",
    "const g = get_g(par);"
   ]
  },
  {
   "cell_type": "code",
   "execution_count": null,
   "metadata": {},
   "outputs": [],
   "source": [
    "x, F = par.x, par.F\n",
    "\n",
    "v = .6\n",
    "A = 1e-2\n",
    "φ1 = v * ones(N) + A* cos.((2π/L).*x)\n",
    "φ2 = A * sin.((2π/L).*x); \n",
    "Fφ1, Fφ2 = F*φ1, F*φ2;"
   ]
  },
  {
   "cell_type": "code",
   "execution_count": null,
   "metadata": {},
   "outputs": [],
   "source": [
    "M = Int(2e6)\n",
    "frames = 5_000\n",
    "n = M ÷ frames\n",
    "\n",
    "φt = Array{Float64}(undef, (frames, 2, N))\n",
    "φt[1, 1, :] .= φ1\n",
    "φt[1, 2, :] .= φ2;"
   ]
  },
  {
   "cell_type": "code",
   "execution_count": null,
   "metadata": {},
   "outputs": [],
   "source": [
    "for i in 2:frames\n",
    "    for j in 1:n\n",
    "        etd!(par, g, (Fφ1, Fφ2), (φ1, φ2))\n",
    "        t = i*n + j\n",
    "        if t%(M÷10) == 0\n",
    "            print(100*t/M,\"% \\n\")\n",
    "            @assert !any(isnan.(Fφ1))\n",
    "        end\n",
    "    end\n",
    "    φt[i, 1, :] .= φ1\n",
    "    φt[i, 2, :] .= φ2\n",
    "end"
   ]
  },
  {
   "cell_type": "code",
   "execution_count": null,
   "metadata": {},
   "outputs": [],
   "source": [
    " anim = @animate for i in 1:frames\n",
    "    plot()\n",
    "    plot!(x, φt[i, 1, :])\n",
    "    plot!(x, φt[i, 2, :])\n",
    "    plot!(;yrange=(-1, 1))\n",
    "    plot!(size=(1500, 500))\n",
    "end every 1;\n",
    "gif(anim, \"nrch.mp4\", fps = 15)"
   ]
  }
 ],
 "metadata": {
  "kernelspec": {
   "display_name": "Julia 1.9.3",
   "language": "julia",
   "name": "julia-1.9"
  },
  "language_info": {
   "file_extension": ".jl",
   "mimetype": "application/julia",
   "name": "julia",
   "version": "1.9.3"
  }
 },
 "nbformat": 4,
 "nbformat_minor": 2
}
