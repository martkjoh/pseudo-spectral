{
 "cells": [
  {
   "cell_type": "code",
   "execution_count": null,
   "metadata": {},
   "outputs": [],
   "source": [
    "using Plots\n",
    "using FFTW\n",
    "\n",
    "const L = 100\n",
    "const N = 1000\n",
    "const M = 1000\n",
    "const dx = L/N\n",
    "const k0 = 2π/L\n",
    "const dt = 1e-3\n",
    "\n",
    "const x = LinRange(0, L - dx, N)\n",
    "const k = 2*π / L .* collect(1:(N÷2)+1)\n",
    "const k² = k.*k\n",
    "\n",
    "F = plan_rfft(x)\n",
    "B = plan_irfft(k*(1 + 0*im), N)\n",
    "\n",
    "const V = cos.(k0 .* x)\n",
    "const FV = F*V\n",
    "const v = 4 * B*(-im.*k.*FV)\n",
    "\n",
    "function antialiasing!( F )\n",
    "    F[(end-(N÷2)÷3)+1:end] .= 0.\n",
    "end\n",
    "\n",
    "function euler!(Fdφ, Fφ)\n",
    "    Fdφ .= -k².*Fφ\n",
    "    Fdφ .+= (-im.*k) .* (F*(v.*(B*Fφ)))\n",
    "    Fφ .+= Fdφ.*dt\n",
    "    antialiasing!(Fφ)\n",
    "end\n"
   ]
  },
  {
   "cell_type": "code",
   "execution_count": null,
   "metadata": {},
   "outputs": [],
   "source": [
    "dφ = zeros(N)\n",
    "a = 2\n",
    "φ = 5 * exp.( - ((x .- (L/4)).^2) ./ (2*a^2) ) ./ (√(2π*a^2)) \n",
    "plot(x, φ)\n",
    "plot!(x, V)"
   ]
  },
  {
   "cell_type": "code",
   "execution_count": null,
   "metadata": {},
   "outputs": [],
   "source": [
    "plot(x, v)\n"
   ]
  },
  {
   "cell_type": "code",
   "execution_count": null,
   "metadata": {},
   "outputs": [],
   "source": [
    "Fφ = F*φ\n",
    "Fdφ = F*dφ\n",
    "plot(k, real(Fφ))\n",
    "plot!(k, imag(Fφ))"
   ]
  },
  {
   "cell_type": "code",
   "execution_count": null,
   "metadata": {},
   "outputs": [],
   "source": [
    "antialiasing!(Fφ)\n",
    "plot(k, real(Fφ))\n",
    "plot!(k, imag(Fφ))"
   ]
  },
  {
   "cell_type": "code",
   "execution_count": null,
   "metadata": {},
   "outputs": [],
   "source": [
    "φ = B*Fφ\n",
    "dφ = B*Fdφ\n",
    "plot(x, φ)"
   ]
  },
  {
   "cell_type": "code",
   "execution_count": null,
   "metadata": {},
   "outputs": [],
   "source": [
    "for t in 1:10_000\n",
    "    euler!(Fdφ, Fφ)\n",
    "end\n",
    "\n",
    "φ = B*Fφ\n",
    "dφ = B*Fdφ\n",
    "plot(x, φ, ylims=(-1,1))\n",
    "plot!(x, V)\n",
    " "
   ]
  }
 ],
 "metadata": {
  "kernelspec": {
   "display_name": "Julia 1.9.3",
   "language": "julia",
   "name": "julia-1.9"
  },
  "language_info": {
   "file_extension": ".jl",
   "mimetype": "application/julia",
   "name": "julia",
   "version": "1.9.3"
  }
 },
 "nbformat": 4,
 "nbformat_minor": 2
}
