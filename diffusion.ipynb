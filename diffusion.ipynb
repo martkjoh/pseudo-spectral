{
 "cells": [
  {
   "cell_type": "code",
   "execution_count": null,
   "metadata": {},
   "outputs": [],
   "source": [
    "using Plots\n",
    "using FFTW\n",
    "\n",
    "L = 100\n",
    "N = 1000\n",
    "M = 1000\n",
    "dx = L/N\n",
    "k0 = 2π/L\n",
    "dt = 1e-3\n",
    "x = LinRange(0, L - dx, N)\n",
    "k = 2*π / L .* collect(1:(N÷2)+1)\n",
    "k² = k.*k\n",
    "\n",
    "F = plan_rfft(x)\n",
    "B = plan_irfft(k*(1 + 0*im), N)\n",
    "\n",
    "const V = cos.(k0 .* x)\n",
    "# const V = zeros(N)\n",
    "const FV = F*V\n",
    "const v = 4 * B*(-im.*k.*FV)\n",
    "\n",
    "function antialiasing!( F )\n",
    "    F[(end-(N÷2)÷3)+1:end] .= 0.\n",
    "end\n",
    "\n",
    "function euler!(Fdφ, Fφ)\n",
    "    Fdφ .= -k².*Fφ\n",
    "    Fdφ .+= (-im.*k) .* (F*(v.*(B*Fφ)))\n",
    "    Fφ .+= Fdφ.*dt\n",
    "    antialiasing!(Fφ)\n",
    "end\n"
   ]
  },
  {
   "cell_type": "code",
   "execution_count": null,
   "metadata": {},
   "outputs": [],
   "source": [
    "dφ = zeros(N)\n",
    "a = 2\n",
    "# φ = 5 * exp.( - ((x .- (L/4)).^2) ./ (2*a^2) ) ./ (√(2π*a^2)) \n",
    "# φ = cos.(2*k0*x)\n",
    "φ = zeros(N)\n",
    "φ[100:250] .= 1.\n",
    "plot(x, φ)\n",
    "plot!(x, V)"
   ]
  },
  {
   "cell_type": "code",
   "execution_count": null,
   "metadata": {},
   "outputs": [],
   "source": [
    "plot(x, v)"
   ]
  },
  {
   "cell_type": "code",
   "execution_count": null,
   "metadata": {},
   "outputs": [],
   "source": [
    "Fφ = F*φ\n",
    "Fdφ = F*dφ\n",
    "plot(k, real(Fφ))\n",
    "plot!(k, imag(Fφ))"
   ]
  },
  {
   "cell_type": "code",
   "execution_count": null,
   "metadata": {},
   "outputs": [],
   "source": [
    "φ = B*Fφ\n",
    "dφ = B*Fdφ\n",
    "plot(x, φ)"
   ]
  },
  {
   "cell_type": "code",
   "execution_count": null,
   "metadata": {},
   "outputs": [],
   "source": [
    "M = 50_000\n",
    "c = \"lightblue\"\n",
    "p = plot(x, φ, color=c)\n",
    "for t in 1:M\n",
    "    euler!(Fdφ, Fφ)\n",
    "    if t%(M÷10) == 0\n",
    "        φ .= B*Fφ\n",
    "        plot!(x, φ, color=c)\n",
    "        @assert !any(isnan.(Fφ))\n",
    "    end\n",
    "end\n",
    "display(p)\n",
    "φ = B*Fφ\n",
    "dφ = B*Fdφ\n",
    "plot(x, φ, ylims=(-1,1))\n",
    "plot!(x, V)\n",
    " "
   ]
  },
  {
   "cell_type": "code",
   "execution_count": null,
   "metadata": {},
   "outputs": [],
   "source": []
  }
 ],
 "metadata": {
  "kernelspec": {
   "display_name": "Julia 1.9.3",
   "language": "julia",
   "name": "julia-1.9"
  },
  "language_info": {
   "file_extension": ".jl",
   "mimetype": "application/julia",
   "name": "julia",
   "version": "1.9.3"
  }
 },
 "nbformat": 4,
 "nbformat_minor": 2
}
